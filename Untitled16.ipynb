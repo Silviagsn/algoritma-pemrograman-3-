{
 "cells": [
  {
   "cell_type": "code",
   "execution_count": 39,
   "id": "87bd3b89-25c3-4c85-b5a4-773f6b644d88",
   "metadata": {},
   "outputs": [
    {
     "name": "stdin",
     "output_type": "stream",
     "text": [
      "Masukkan panjang sisi pertama:  2\n",
      "Masukkan panjang sisi kedua:  4\n",
      "Masukkan panjang sisi ketiga:  5\n"
     ]
    },
    {
     "name": "stdout",
     "output_type": "stream",
     "text": [
      "Segitiga sembarang\n"
     ]
    }
   ],
   "source": [
    "def jenis_segitiga (a, b, c):\n",
    "    if a + b > c and a + c > b and b + c > a:\n",
    "        # Segitiga Sama Sisi\n",
    "        if a == b == c:\n",
    "            return \"Segitiga sama sisi\"\n",
    "        # Segitiga Sama Kaki\n",
    "        elif a == b or b == c or a == c:\n",
    "            return \"Segitiga sama kaki\"\n",
    "        # Segitiga Siku-Siku\n",
    "        elif a**2 + b**2 == c**2 or b**2 + c**2 == a**2 or a**2 + c**2 == b**2:\n",
    "            return \"Segitiga siku-siku\"\n",
    "        else:\n",
    "            return \"Segitiga sembarang\"\n",
    "    else:\n",
    "        return \"segitiga tidak valid\"\n",
    "\n",
    "a = float(input(\"Masukkan panjang sisi pertama: \"))\n",
    "b = float(input(\"Masukkan panjang sisi kedua: \"))\n",
    "c = float(input(\"Masukkan panjang sisi ketiga: \"))\n",
    "\n",
    "print(jenis_segitiga(a, b, c))"
   ]
  },
  {
   "cell_type": "code",
   "execution_count": 51,
   "id": "1093fd90-9729-41ad-910b-9c3b88ce9a59",
   "metadata": {},
   "outputs": [
    {
     "name": "stdin",
     "output_type": "stream",
     "text": [
      "Nilai a:  1\n",
      "Nilai b:  6\n",
      "Nilai c:  6\n"
     ]
    },
    {
     "name": "stdout",
     "output_type": "stream",
     "text": [
      "Persamaan kuadrat: 1x² + 6x + 6 = 0\n",
      "Diskriminan: -4\n",
      "Akar kompleks.\n",
      "Akar kompleks: -1 + 1.0 dan -1 - 1.0\n"
     ]
    }
   ],
   "source": [
    "import math\n",
    "def Hitung_Determinan(a, b, c):\n",
    "    return b**2 - 4*a*c\n",
    "\n",
    "def Jenis_Akar(Diskriminan):\n",
    "    if Diskriminan > 0:\n",
    "        return \"Akar real dan berbeda.\"\n",
    "    elif Diskriminan == 0:\n",
    "        return \"Akar real dan sama.\"\n",
    "    else:\n",
    "        return \"Akar kompleks.\"\n",
    "\n",
    "def Cari_Akar(a, b, c, Diskriminan):\n",
    "    if Diskriminan >= 0:\n",
    "        akar1 = (-b + math.sqrt(Diskriminan)) // (2*a)\n",
    "        akar2 = (-b - math.sqrt(Diskriminan)) // (2*a)\n",
    "        if Diskriminan == 0:\n",
    "            return f\"Akar: {akar1}\"\n",
    "        else:\n",
    "            return f\"Akar-akar: {akar1} dan {akar2}\"\n",
    "    else:\n",
    "        akar_real = -b // (2*a)\n",
    "        akar_imaginer = math.sqrt(abs(diskriminan)) // (2*a)\n",
    "        return f\"Akar kompleks: {akar_real} + {akar_imaginer} dan {akar_real} - {akar_imaginer}\"\n",
    "\n",
    "def Tampilkan_Persamaan(a, b, c):\n",
    "    persamaan = f\"{a}x² + {b}x + {c} = 0\"\n",
    "    return persamaan\n",
    "\n",
    "a = int(input(\"Nilai a: \"))\n",
    "b = int(input(\"Nilai b: \"))\n",
    "c = int(input(\"Nilai c: \"))\n",
    "\n",
    "print(\"Persamaan kuadrat:\", tampilkan_persamaan(a, b, c))\n",
    "\n",
    "Diskriminan = Hitung_Determinan(a, b, c)\n",
    "print(f\"Diskriminan: {diskriminan}\")\n",
    "\n",
    "print(jenis_akar(diskriminan))\n",
    "\n",
    "Hasil_Akar = Cari_Akar(a, b, c, Diskriminan)\n",
    "print(hasil_akar)"
   ]
  },
  {
   "cell_type": "code",
   "execution_count": null,
   "id": "e86ca1b8-3b1f-4566-8249-71afce131a45",
   "metadata": {},
   "outputs": [],
   "source": []
  }
 ],
 "metadata": {
  "kernelspec": {
   "display_name": "Python 3 (ipykernel)",
   "language": "python",
   "name": "python3"
  },
  "language_info": {
   "codemirror_mode": {
    "name": "ipython",
    "version": 3
   },
   "file_extension": ".py",
   "mimetype": "text/x-python",
   "name": "python",
   "nbconvert_exporter": "python",
   "pygments_lexer": "ipython3",
   "version": "3.12.4"
  }
 },
 "nbformat": 4,
 "nbformat_minor": 5
}
